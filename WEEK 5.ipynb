{
 "cells": [
  {
   "cell_type": "code",
   "execution_count": 9,
   "id": "ee180aaa-8507-4d7e-9195-b662cd23593d",
   "metadata": {},
   "outputs": [
    {
     "name": "stdout",
     "output_type": "stream",
     "text": [
      "     ProductPrice  TotalQuantity\n",
      "0         34.9900           2099\n",
      "1         33.6442           1940\n",
      "2         33.6442           1995\n",
      "3          8.6442           4151\n",
      "4         48.0673            392\n",
      "..            ...            ...\n",
      "125      539.9900             55\n",
      "126      539.9900             41\n",
      "127      539.9900            356\n",
      "128      539.9900            355\n",
      "129      539.9900            383\n",
      "\n",
      "[130 rows x 2 columns]\n"
     ]
    }
   ],
   "source": [
    "# No 1\n",
    "import sqlite3\n",
    "import pandas as pd\n",
    "from scipy.stats import pearsonr\n",
    "\n",
    "# Connect to the database\n",
    "conn = sqlite3.connect(r'C:\\Users\\Oluwafunmilayo Basil\\Documents\\EBUNOLUWA\\AdventureWork_Database.db')\n",
    "\n",
    "# Query to extract product prices and sales quantities\n",
    "query = '''\n",
    "SELECT ProductPrice, SUM(OrderQuantity) AS TotalQuantity\n",
    "FROM Sales_Products_2015_2017\n",
    "GROUP BY ProductKey\n",
    "'''\n",
    "\n",
    "# Load data into a pandas DataFrame\n",
    "df = pd.read_sql(query, conn)\n",
    "\n",
    "print(df)"
   ]
  },
  {
   "cell_type": "code",
   "execution_count": 11,
   "id": "b4c03c7d-36bb-4822-af0a-3e9dc80fc863",
   "metadata": {},
   "outputs": [
    {
     "name": "stdout",
     "output_type": "stream",
     "text": [
      "Pearson Correlation Coefficient: -0.3630292079645787\n",
      "P-value: 2.1865231911233068e-05\n",
      "Reject the null hypothesis: There is a significant negative correlation.\n"
     ]
    }
   ],
   "source": [
    "# Perform Pearson correlation between ProductPrice and TotalQuantity\n",
    "corr, p_value = pearsonr(df['ProductPrice'], df['TotalQuantity'])\n",
    "\n",
    "# Output the results\n",
    "print(f\"Pearson Correlation Coefficient: {corr}\")\n",
    "print(f\"P-value: {p_value}\")\n",
    "\n",
    "# Interpret the results\n",
    "if p_value < 0.05:\n",
    "    print(\"Reject the null hypothesis: There is a significant negative correlation.\")\n",
    "else:\n",
    "    print(\"Fail to reject the null hypothesis: There is no significant correlation.\")\n"
   ]
  },
  {
   "cell_type": "code",
   "execution_count": 5,
   "id": "74e962b0-7831-47f2-9c91-dd7bfc993a29",
   "metadata": {},
   "outputs": [
    {
     "name": "stdout",
     "output_type": "stream",
     "text": [
      "F-statistic: 101.89472870164182\n",
      "P-value: 4.0454702505275955e-188\n",
      "Reject the null hypothesis: Sales performance varies significantly across territories.\n"
     ]
    }
   ],
   "source": [
    "\n",
    "import sqlite3\n",
    "import pandas as pd\n",
    "from scipy import stats\n",
    "\n",
    "# Connect to the database\n",
    "conn = sqlite3.connect(r'C:\\Users\\Oluwafunmilayo Basil\\Documents\\EBUNOLUWA\\AdventureWork_Database.db')\n",
    "\n",
    "# Query to extract revenue and territory information\n",
    "query = '''\n",
    "SELECT TerritoryKey, SUM(Revenue) AS TotalRevenue\n",
    "FROM Sales_Products_2015_2017\n",
    "GROUP BY OrderID, TerritoryKey\n",
    "'''\n",
    "\n",
    "# Load data into a pandas DataFrame\n",
    "df = pd.read_sql(query, conn)\n",
    "\n",
    "# Perform ANOVA test to compare sales across different territories\n",
    "territories = df.groupby('TerritoryKey')['TotalRevenue'].apply(list)\n",
    "anova_result = stats.f_oneway(*territories)\n",
    "\n",
    "# Output the results\n",
    "print(f\"F-statistic: {anova_result.statistic}\")\n",
    "print(f\"P-value: {anova_result.pvalue}\")\n",
    "\n",
    "# Interpret the results\n",
    "if anova_result.pvalue < 0.05:\n",
    "    print(\"Reject the null hypothesis: Sales performance varies significantly across territories.\")\n",
    "else:\n",
    "    print(\"Fail to reject the null hypothesis: Sales performance does not vary significantly across territories.\")\n"
   ]
  },
  {
   "cell_type": "code",
   "execution_count": 7,
   "id": "86398cfc-1ce1-4d8f-a158-7bc9d1dd958b",
   "metadata": {},
   "outputs": [
    {
     "name": "stdout",
     "output_type": "stream",
     "text": [
      "Chi-Square Statistic: 250.0797607847409\n",
      "P-value: 3.943512611645011e-51\n",
      "Reject the null hypothesis: There is a significant association between product category and seasonal sales.\n"
     ]
    }
   ],
   "source": [
    "import sqlite3\n",
    "import pandas as pd\n",
    "from scipy.stats import chi2_contingency\n",
    "\n",
    "# Connect to the database\n",
    "conn = sqlite3.connect(r'C:\\Users\\Oluwafunmilayo Basil\\Documents\\EBUNOLUWA\\AdventureWork_Database.db')\n",
    "\n",
    "# Query to extract product categories and order dates\n",
    "query = '''\n",
    "SELECT ProductCategoryKey, Revenue, strftime('%m', OrderDate) AS Month\n",
    "FROM Sales_Products_2015_2017\n",
    "'''\n",
    "\n",
    "# Load data into a pandas DataFrame\n",
    "df = pd.read_sql(query, conn)\n",
    "\n",
    "# Create a 'Season' column based on the 'Month' (Spring: 03-05, Summer: 06-08, Fall: 09-11, Winter: 12-02)\n",
    "def get_season(month):\n",
    "    month = int(month)\n",
    "    if month in [12, 1, 2]:\n",
    "        return 'Winter'\n",
    "    elif month in [3, 4, 5]:\n",
    "        return 'Spring'\n",
    "    elif month in [6, 7, 8]:\n",
    "        return 'Summer'\n",
    "    else:\n",
    "        return 'Fall'\n",
    "\n",
    "df['Season'] = df['Month'].apply(get_season)\n",
    "\n",
    "# Create a contingency table for product categories and seasons\n",
    "contingency_table = pd.crosstab(df['ProductCategoryKey'], df['Season'])\n",
    "\n",
    "# Perform Chi-square test\n",
    "chi2, p, dof, expected = chi2_contingency(contingency_table)\n",
    "\n",
    "# Output the results\n",
    "print(f\"Chi-Square Statistic: {chi2}\")\n",
    "print(f\"P-value: {p}\")\n",
    "\n",
    "# Interpret the results\n",
    "if p < 0.05:\n",
    "    print(\"Reject the null hypothesis: There is a significant association between product category and seasonal sales.\")\n",
    "else:\n",
    "    print(\"Fail to reject the null hypothesis: No significant association between product category and seasonal sales.\")\n"
   ]
  },
  {
   "cell_type": "code",
   "execution_count": 13,
   "id": "4116d96f-5a4a-4a71-af78-7be1172f0595",
   "metadata": {},
   "outputs": [
    {
     "name": "stdout",
     "output_type": "stream",
     "text": [
      "Kruskal-Wallis Test: Statistic = 959.4093701992699, p-value = 9.723901414974708e-201\n"
     ]
    },
    {
     "name": "stderr",
     "output_type": "stream",
     "text": [
      "C:\\Users\\Oluwafunmilayo Basil\\anaconda3\\Lib\\site-packages\\scipy\\stats\\_axis_nan_policy.py:531: UserWarning: scipy.stats.shapiro: For N > 5000, computed p-value may not be accurate. Current N is 6060.\n",
      "  res = hypotest_fun_out(*samples, **kwds)\n"
     ]
    }
   ],
   "source": [
    "import sqlite3\n",
    "import pandas as pd\n",
    "from scipy.stats import shapiro, f_oneway, kruskal\n",
    "\n",
    "# Connect to the database\n",
    "conn = sqlite3.connect(r'C:\\Users\\Oluwafunmilayo Basil\\Documents\\EBUNOLUWA\\AdventureWork_Database.db')\n",
    "\n",
    "# Query to extract revenue by territory\n",
    "query = '''\n",
    "SELECT TerritoryKey, SUM(Revenue) AS TotalRevenue\n",
    "FROM Sales_Products_2015_2017\n",
    "GROUP BY OrderID, TerritoryKey\n",
    "'''\n",
    "\n",
    "# Load data into a pandas DataFrame\n",
    "df = pd.read_sql(query, conn)\n",
    "\n",
    "# Check normality for TotalRevenue using Shapiro-Wilk test for each territory\n",
    "territories = df['TerritoryKey'].unique()\n",
    "normality_results = {}\n",
    "\n",
    "for territory in territories:\n",
    "    territory_data = df[df['TerritoryKey'] == territory]['TotalRevenue']\n",
    "    normality_results[territory] = shapiro(territory_data).pvalue\n",
    "\n",
    "# If any of the territories fails the normality test, use Kruskal-Wallis\n",
    "use_kruskal = any(p < 0.05 for p in normality_results.values())\n",
    "\n",
    "if use_kruskal:\n",
    "    # Perform Kruskal-Wallis test\n",
    "    grouped_territories = [df[df['TerritoryKey'] == t]['TotalRevenue'] for t in territories]\n",
    "    stat, p_value = kruskal(*grouped_territories)\n",
    "    test_used = 'Kruskal-Wallis Test'\n",
    "else:\n",
    "    # Perform ANOVA\n",
    "    grouped_territories = [df[df['TerritoryKey'] == t]['TotalRevenue'] for t in territories]\n",
    "    stat, p_value = f_oneway(*grouped_territories)\n",
    "    test_used = 'ANOVA'\n",
    "\n",
    "# Output the results\n",
    "print(f\"{test_used}: Statistic = {stat}, p-value = {p_value}\")\n"
   ]
  },
  {
   "cell_type": "code",
   "execution_count": null,
   "id": "0e5ab8d2-e347-41a3-ae50-d0342a3482b9",
   "metadata": {},
   "outputs": [],
   "source": []
  }
 ],
 "metadata": {
  "kernelspec": {
   "display_name": "Python 3 (ipykernel)",
   "language": "python",
   "name": "python3"
  },
  "language_info": {
   "codemirror_mode": {
    "name": "ipython",
    "version": 3
   },
   "file_extension": ".py",
   "mimetype": "text/x-python",
   "name": "python",
   "nbconvert_exporter": "python",
   "pygments_lexer": "ipython3",
   "version": "3.12.4"
  }
 },
 "nbformat": 4,
 "nbformat_minor": 5
}
